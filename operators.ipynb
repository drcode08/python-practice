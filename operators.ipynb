{
 "cells": [
  {
   "cell_type": "markdown",
   "id": "02c5d58f",
   "metadata": {},
   "source": [
    "# Operators in Python"
   ]
  },
  {
   "cell_type": "markdown",
   "id": "f6ee7ab1",
   "metadata": {},
   "source": [
    "1. What are Operators?\n",
    "\n",
    "Operators are symbols that perform operations on variables and values.\n",
    "### Example\n",
    "\"\"\"\n",
    "a = 10\n",
    "b = 5\n",
    "print(a + b)  # 15 \"\"\"\n"
   ]
  },
  {
   "cell_type": "markdown",
   "id": "864cd0ba",
   "metadata": {},
   "source": [
    "# 2. Types of Operators in Python"
   ]
  },
  {
   "cell_type": "markdown",
   "id": "5328bc14",
   "metadata": {},
   "source": [
    "| Type                     | Description                     |\n",
    "| ------------------------ | ------------------------------- |\n",
    "| 1️⃣ Arithmetic Operators | Perform mathematical operations |\n",
    "| 2️⃣ Assignment Operators | Assign values to variables      |\n",
    "| 3️⃣ Comparison Operators | Compare two values              |\n",
    "| 4️⃣ Logical Operators    | Combine conditional statements  |\n",
    "| 5️⃣ Bitwise Operators    | Perform operations on bits      |\n",
    "| 6️⃣ Membership Operators | Test for sequence membership    |\n",
    "| 7️⃣ Identity Operators   | Compare object identities       |\n"
   ]
  },
  {
   "cell_type": "markdown",
   "id": "701240f3",
   "metadata": {},
   "source": [
    "#### 1. Arithmetic Operators\n",
    "\n",
    "| Operator | Description         | Example   | Result   |\n",
    "| -------- | ------------------- | --------- | -------- |\n",
    "| `+`      | Addition            | `10 + 5`  | `15`     |\n",
    "| `-`      | Subtraction         | `10 - 5`  | `5`      |\n",
    "| `*`      | Multiplication      | `10 * 5`  | `50`     |\n",
    "| `/`      | Division            | `10 / 3`  | `3.3333` |\n",
    "| `//`     | Floor Division      | `10 // 3` | `3`      |\n",
    "| `%`      | Modulus (Remainder) | `10 % 3`  | `1`      |\n",
    "| `**`     | Exponentiation      | `2 ** 3`  | `8`      |\n"
   ]
  },
  {
   "cell_type": "code",
   "execution_count": 1,
   "id": "649b48d6",
   "metadata": {},
   "outputs": [
    {
     "name": "stdout",
     "output_type": "stream",
     "text": [
      "13\n",
      "7\n",
      "30\n",
      "3.3333333333333335\n",
      "3\n",
      "1\n",
      "1000\n"
     ]
    }
   ],
   "source": [
    "a, b = 10, 3\n",
    "print(a + b)\n",
    "print(a - b)\n",
    "print(a * b)\n",
    "print(a / b)\n",
    "print( a // b)\n",
    "print( a % b)\n",
    "print( a ** b)"
   ]
  },
  {
   "cell_type": "markdown",
   "id": "e2cdda77",
   "metadata": {},
   "source": [
    "#### 2. Assignment Operators\n",
    "\n",
    "| Operator | Example   | Same As      |\n",
    "| -------- | --------- | ------------ |\n",
    "| `=`      | `x = 5`   | `x = 5`      |\n",
    "| `+=`     | `x += 3`  | `x = x + 3`  |\n",
    "| `-=`     | `x -= 3`  | `x = x - 3`  |\n",
    "| `*=`     | `x *= 3`  | `x = x * 3`  |\n",
    "| `/=`     | `x /= 3`  | `x = x / 3`  |\n",
    "| `%=`     | `x %= 3`  | `x = x % 3`  |\n",
    "| `**=`    | `x **= 3` | `x = x ** 3` |\n",
    "| `//=`    | `x //= 3` | `x = x // 3` |\n"
   ]
  },
  {
   "cell_type": "code",
   "execution_count": 2,
   "id": "dc2581f3",
   "metadata": {},
   "outputs": [
    {
     "name": "stdout",
     "output_type": "stream",
     "text": [
      "15\n"
     ]
    }
   ],
   "source": [
    "x = 10\n",
    "x += 5\n",
    "print(x)   # 15\n"
   ]
  },
  {
   "cell_type": "markdown",
   "id": "8671fd8d",
   "metadata": {},
   "source": [
    "#### 3. Comparison Operators\n",
    "\n",
    "Used to compare two values and return True or False.\n",
    "\n",
    "| Operator | Description              | Example  | Result |\n",
    "| -------- | ------------------------ | -------- | ------ |\n",
    "| `==`     | Equal to                 | `a == b` | False  |\n",
    "| `!=`     | Not equal to             | `a != b` | True   |\n",
    "| `>`      | Greater than             | `a > b`  | True   |\n",
    "| `<`      | Less than                | `a < b`  | False  |\n",
    "| `>=`     | Greater than or equal to | `a >= b` | True   |\n",
    "| `<=`     | Less than or equal to    | `a <= b` | False  |\n"
   ]
  },
  {
   "cell_type": "code",
   "execution_count": 3,
   "id": "3617803f",
   "metadata": {},
   "outputs": [
    {
     "name": "stdout",
     "output_type": "stream",
     "text": [
      "True\n",
      "False\n",
      "True\n"
     ]
    }
   ],
   "source": [
    "a, b = 10, 5\n",
    "print(a > b)\n",
    "print(a == b)\n",
    "print(a != b)\n"
   ]
  },
  {
   "cell_type": "markdown",
   "id": "37de7523",
   "metadata": {},
   "source": [
    "#### 4. Logical Operators\n",
    "\n",
    "Used to combine conditional statements.\n",
    "\n",
    "| Operator | Description                  | Example            | Result |\n",
    "| -------- | ---------------------------- | ------------------ | ------ |\n",
    "| `and`    | True if both are True        | `a > b and a < 20` | True   |\n",
    "| `or`     | True if at least one is True | `a > b or a < 5`   | True   |\n",
    "| `not`    | Inverts the result           | `not(a > b)`       | False  |\n"
   ]
  },
  {
   "cell_type": "code",
   "execution_count": 4,
   "id": "a18aaca5",
   "metadata": {},
   "outputs": [
    {
     "name": "stdout",
     "output_type": "stream",
     "text": [
      "True\n",
      "True\n",
      "True\n"
     ]
    }
   ],
   "source": [
    "a, b = 10, 5\n",
    "print(a > 5 and b < 10)\n",
    "print(a > 15 or b < 10)\n",
    "print(not(a == b))\n"
   ]
  },
  {
   "cell_type": "markdown",
   "id": "e6d5f164",
   "metadata": {},
   "source": [
    "#### 5. Bitwise Operators\n",
    "\n",
    "Operate on bits (0s and 1s).\n",
    "\n",
    "| Operator | Description | Example  | Result |    |     |\n",
    "| -------- | ----------- | -------- | ------ | -- | --- |\n",
    "| `&`      | AND         | `5 & 3`  | `1`    |    |     |\n",
    "| `        | `           | OR       | `5     | 3` | `7` |\n",
    "| `^`      | XOR         | `5 ^ 3`  | `6`    |    |     |\n",
    "| `~`      | NOT         | `~5`     | `-6`   |    |     |\n",
    "| `<<`     | Left shift  | `5 << 1` | `10`   |    |     |\n",
    "| `>>`     | Right shift | `5 >> 1` | `2`    |    |     |\n"
   ]
  },
  {
   "cell_type": "markdown",
   "id": "e12507a3",
   "metadata": {},
   "source": [
    "#### 6. Membership Operators\n",
    "\n",
    "Used to test if a value exists in a sequence (list, string, etc.)\n",
    "\n",
    "| Operator | Description                 | Example              | Result |\n",
    "| -------- | --------------------------- | -------------------- | ------ |\n",
    "| `in`     | Returns True if present     | `'a' in 'apple'`     | True   |\n",
    "| `not in` | Returns True if not present | `'z' not in 'apple'` | True   |\n"
   ]
  },
  {
   "cell_type": "markdown",
   "id": "90a8d00f",
   "metadata": {},
   "source": [
    "#### 7. Identity Operators\n",
    "\n",
    "Used to compare memory locations (object identity).\n",
    "\n",
    "| Operator | Description                  | Example      | Result |\n",
    "| -------- | ---------------------------- | ------------ | ------ |\n",
    "| `is`     | True if both are same object | `x is y`     | True   |\n",
    "| `is not` | True if not same object      | `x is not y` | False  |\n",
    "\n"
   ]
  },
  {
   "cell_type": "code",
   "execution_count": 5,
   "id": "74350b79",
   "metadata": {},
   "outputs": [
    {
     "name": "stdout",
     "output_type": "stream",
     "text": [
      "True\n",
      "False\n",
      "True\n"
     ]
    }
   ],
   "source": [
    "x = [1, 2, 3]\n",
    "y = x\n",
    "z = [1, 2, 3]\n",
    "\n",
    "print(x is y)      # True (same memory)\n",
    "print(x is z)      # False (different object)\n",
    "print(x == z)      # True (same content)\n"
   ]
  },
  {
   "cell_type": "markdown",
   "id": "bf99401b",
   "metadata": {},
   "source": [
    "#### 8. Operator Precedence\n",
    "\n",
    "Order of execution when multiple operators are used:\n",
    "\n",
    "\"\"\"\n",
    "()\n",
    "**\n",
    "*, /, //, %\n",
    "+, -\n",
    "<, <=, >, >=\n",
    "==, !=\n",
    "not\n",
    "and\n",
    "or\n",
    "\"\"\"\n"
   ]
  },
  {
   "cell_type": "code",
   "execution_count": 6,
   "id": "ef217fca",
   "metadata": {},
   "outputs": [
    {
     "name": "stdout",
     "output_type": "stream",
     "text": [
      "20\n"
     ]
    }
   ],
   "source": [
    "x = 10 + 5 * 2\n",
    "print(x)  # 20 (multiplication done first)\n"
   ]
  }
 ],
 "metadata": {
  "kernelspec": {
   "display_name": ".venv",
   "language": "python",
   "name": "python3"
  },
  "language_info": {
   "codemirror_mode": {
    "name": "ipython",
    "version": 3
   },
   "file_extension": ".py",
   "mimetype": "text/x-python",
   "name": "python",
   "nbconvert_exporter": "python",
   "pygments_lexer": "ipython3",
   "version": "3.12.3"
  }
 },
 "nbformat": 4,
 "nbformat_minor": 5
}
