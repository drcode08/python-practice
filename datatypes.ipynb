{
 "cells": [
  {
   "cell_type": "markdown",
   "id": "2b281271",
   "metadata": {},
   "source": [
    "\"\"\"\n",
    "1. What is a Data Type?\n",
    "\n",
    "A data type defines the kind of value a variable can hold and the operations that can be performed on it.\n",
    "Python is dynamically typed, so you don’t declare the type explicitly — it’s assigned automatically at runtime.\n",
    "\"\"\"\n"
   ]
  },
  {
   "cell_type": "code",
   "execution_count": 3,
   "id": "f7b2d5d6",
   "metadata": {},
   "outputs": [
    {
     "name": "stdout",
     "output_type": "stream",
     "text": [
      "<class 'int'> <class 'str'> <class 'float'>\n"
     ]
    }
   ],
   "source": [
    "x = 10       # int\n",
    "y = \"Hello\"  # str\n",
    "z = 3.14     # float\n",
    "print(type(x), type(y), type(z))\n",
    "\n"
   ]
  },
  {
   "cell_type": "markdown",
   "id": "a29be700",
   "metadata": {},
   "source": [
    "2. Built-in Data Types in Python\n",
    "| Category | Type                               | Example                          |\n",
    "| -------- | ---------------------------------- | -------------------------------- |\n",
    "| Text     | `str`                              | `\"Hello\"`                        |\n",
    "| Numeric  | `int`, `float`, `complex`          | `10`, `3.14`, `2+3j`             |\n",
    "| Sequence | `list`, `tuple`, `range`           | `[1,2,3]`, `(1,2,3)`, `range(5)` |\n",
    "| Mapping  | `dict`                             | `{\"name\": \"Divakar\", \"age\": 30}` |\n",
    "| Set      | `set`, `frozenset`                 | `{1,2,3}`, `frozenset({1,2,3})`  |\n",
    "| Boolean  | `bool`                             | `True`, `False`                  |\n",
    "| Binary   | `bytes`, `bytearray`, `memoryview` | `b\"Hello\"`, `bytearray(5)`       |\n",
    "| None     | `NoneType`                         | `None`                           |\n",
    "\n",
    "🧮 3. Numeric Types\n",
    "➤ Integers (int)\n",
    "\n",
    "Whole numbers, positive or negative, without decimals."
   ]
  },
  {
   "cell_type": "code",
   "execution_count": 8,
   "id": "cc781cb6",
   "metadata": {},
   "outputs": [
    {
     "name": "stdout",
     "output_type": "stream",
     "text": [
      "<class 'int'>\n",
      "<class 'int'>\n"
     ]
    }
   ],
   "source": [
    "a = 10\n",
    "b = -5\n",
    "c = 10.99\n",
    "print(type(a))\n",
    "print(type(b))\n"
   ]
  },
  {
   "cell_type": "markdown",
   "id": "dec63bae",
   "metadata": {},
   "source": [
    "Floats (float)\n",
    "\n",
    "Numbers with decimal points."
   ]
  },
  {
   "cell_type": "code",
   "execution_count": 9,
   "id": "f522ec44",
   "metadata": {},
   "outputs": [
    {
     "name": "stdout",
     "output_type": "stream",
     "text": [
      "<class 'float'>\n"
     ]
    }
   ],
   "source": [
    "pi = 3.14159\n",
    "print(type(pi))\n"
   ]
  },
  {
   "cell_type": "markdown",
   "id": "e7862de8",
   "metadata": {},
   "source": [
    "➤ Complex (complex)\n",
    "Numbers with real and imaginary parts."
   ]
  },
  {
   "cell_type": "code",
   "execution_count": 10,
   "id": "396512c0",
   "metadata": {},
   "outputs": [
    {
     "name": "stdout",
     "output_type": "stream",
     "text": [
      "2.0 3.0\n"
     ]
    }
   ],
   "source": [
    "z = 2 + 3j\n",
    "print(z.real, z.imag)\n"
   ]
  },
  {
   "cell_type": "markdown",
   "id": "2fcb7a67",
   "metadata": {},
   "source": [
    "🧵 4. String (str)\n",
    "\n",
    "A sequence of characters enclosed in quotes."
   ]
  },
  {
   "cell_type": "code",
   "execution_count": 13,
   "id": "61717929",
   "metadata": {},
   "outputs": [
    {
     "name": "stdout",
     "output_type": "stream",
     "text": [
      "Divakar\n",
      "Hello\n",
      "This is\n",
      "a multi-line string.\n",
      "D\n"
     ]
    }
   ],
   "source": [
    "name = \"Divakar\"\n",
    "greet = 'Hello'\n",
    "multiline = \"\"\"This is\n",
    "a multi-line string.\"\"\"\n",
    "\n",
    "print(name)\n",
    "print(greet)\n",
    "print(multiline)\n",
    "# You can access characters using indexing:\n",
    "print(name[0])"
   ]
  },
  {
   "cell_type": "markdown",
   "id": "20ca148b",
   "metadata": {},
   "source": [
    "📜 5. Sequence Types\n",
    "➤ List\n",
    "\n",
    "Mutable (changeable) sequence."
   ]
  },
  {
   "cell_type": "code",
   "execution_count": 17,
   "id": "532c2bcf",
   "metadata": {},
   "outputs": [
    {
     "name": "stdout",
     "output_type": "stream",
     "text": [
      "['apple', 'banana', 'cherry']\n",
      "['apple', 'orange', 'cherry']\n"
     ]
    }
   ],
   "source": [
    "fruits = [\"apple\", \"banana\", \"cherry\"]\n",
    "print(fruits)\n",
    "#Update the list, banana with orange\n",
    "fruits[1] = \"orange\"\n",
    "print(fruits)\n"
   ]
  },
  {
   "cell_type": "markdown",
   "id": "306a5783",
   "metadata": {},
   "source": [
    "➤ Tuple\n",
    "\n",
    "Immutable (unchangeable) sequence."
   ]
  },
  {
   "cell_type": "code",
   "execution_count": 19,
   "id": "9618d129",
   "metadata": {},
   "outputs": [
    {
     "name": "stdout",
     "output_type": "stream",
     "text": [
      "(1, 2, 3)\n"
     ]
    }
   ],
   "source": [
    "numbers = (1, 2, 3)\n",
    "print(numbers)\n",
    "# numbers[0] = 10  # ❌ Error\n"
   ]
  },
  {
   "cell_type": "markdown",
   "id": "5291fb31",
   "metadata": {},
   "source": [
    "➤ Dictionary (dict)\n",
    "\n",
    "Key-value pairs, unordered and mutable."
   ]
  },
  {
   "cell_type": "code",
   "execution_count": 32,
   "id": "7847ecc5",
   "metadata": {},
   "outputs": [
    {
     "name": "stdout",
     "output_type": "stream",
     "text": [
      "Divakar\n",
      "30\n"
     ]
    }
   ],
   "source": [
    "person = {\"name\": \"Divakar\", \"age\": 30}\n",
    "print(person[\"name\"])\n",
    "print(person['age'])\n"
   ]
  },
  {
   "cell_type": "markdown",
   "id": "17c5e724",
   "metadata": {},
   "source": [
    "➤ Set and FrozenSet\n",
    "  Set : Unordered, unique elements, mutable. \n",
    "  FrozenSet : Immutable version of a set."
   ]
  },
  {
   "cell_type": "code",
   "execution_count": 34,
   "id": "ff6dc73f",
   "metadata": {},
   "outputs": [
    {
     "name": "stdout",
     "output_type": "stream",
     "text": [
      "{1, 2, 3}\n",
      "frozenset({1, 2, 3})\n"
     ]
    }
   ],
   "source": [
    "s = {1, 2, 3, 2}\n",
    "print(s)  # {1, 2, 3}\n",
    "\n",
    "\n",
    "\n",
    "fs = frozenset({1, 2, 3})\n",
    "print(fs)"
   ]
  },
  {
   "cell_type": "markdown",
   "id": "8006267b",
   "metadata": {},
   "source": [
    "Boolean (bool)\n",
    "\n",
    "Represents True or False."
   ]
  },
  {
   "cell_type": "code",
   "execution_count": 35,
   "id": "2aacdf4a",
   "metadata": {},
   "outputs": [
    {
     "name": "stdout",
     "output_type": "stream",
     "text": [
      "<class 'bool'>\n"
     ]
    }
   ],
   "source": [
    "is_valid = True\n",
    "print(type(is_valid))\n"
   ]
  },
  {
   "cell_type": "markdown",
   "id": "5defaa4a",
   "metadata": {},
   "source": [
    "Binary Types\n",
    "\n",
    "Used for handling binary data."
   ]
  },
  {
   "cell_type": "code",
   "execution_count": 37,
   "id": "498bbcca",
   "metadata": {},
   "outputs": [],
   "source": [
    "b = b\"Hello\"          # bytes\n",
    "ba = bytearray(b)     # mutable bytes\n",
    "mv = memoryview(b)    # memory view\n"
   ]
  },
  {
   "cell_type": "markdown",
   "id": "5ced5da5",
   "metadata": {},
   "source": [
    "🕳️  None Type\n",
    "\n",
    "Represents the absence of a value."
   ]
  },
  {
   "cell_type": "code",
   "execution_count": 38,
   "id": "6e96ad79",
   "metadata": {},
   "outputs": [
    {
     "name": "stdout",
     "output_type": "stream",
     "text": [
      "<class 'NoneType'>\n"
     ]
    }
   ],
   "source": [
    "x = None\n",
    "print(type(x))\n"
   ]
  },
  {
   "cell_type": "markdown",
   "id": "7c8d4d17",
   "metadata": {},
   "source": [
    "Type Casting (Conversion)\n",
    "\n",
    "You can convert between data types using built-in functions:"
   ]
  },
  {
   "cell_type": "code",
   "execution_count": 42,
   "id": "f4436ba0",
   "metadata": {},
   "outputs": [
    {
     "name": "stdout",
     "output_type": "stream",
     "text": [
      "3 10.0 123\n",
      "<class 'int'>\n",
      "<class 'float'>\n",
      "<class 'str'>\n"
     ]
    }
   ],
   "source": [
    "x = int(3.14)\n",
    "y = float(10)\n",
    "z = str(123)\n",
    "print(x, y, z)\n",
    "\n",
    "# Check Type : Use the built-in function type():\n",
    "print(type(x))\n",
    "print(type(y))\n",
    "print(type(z))\n"
   ]
  },
  {
   "cell_type": "markdown",
   "id": "1844d68e",
   "metadata": {},
   "source": [
    "Summary\n",
    "| Category | Data Type                    | Mutable                                | Example                    |\n",
    "| -------- | ---------------------------- | -------------------------------------- | -------------------------- |\n",
    "| Numeric  | int, float, complex          | No                                     | 10, 3.5, 2+3j              |\n",
    "| Text     | str                          | No                                     | \"Hello\"                    |\n",
    "| Sequence | list, tuple, range           | list: Yes / tuple, range: No           | [1,2,3], (1,2,3), range(5) |\n",
    "| Mapping  | dict                         | Yes                                    | {\"a\":1}                    |\n",
    "| Set      | set, frozenset               | set: Yes / frozenset: No               | {1,2,3}                    |\n",
    "| Boolean  | bool                         | No                                     | True                       |\n",
    "| Binary   | bytes, bytearray, memoryview | bytes, memoryview: No / bytearray: Yes | b\"hi\"                      |\n",
    "| None     | NoneType                     | No                                     | None                       |\n"
   ]
  }
 ],
 "metadata": {
  "kernelspec": {
   "display_name": ".venv",
   "language": "python",
   "name": "python3"
  },
  "language_info": {
   "codemirror_mode": {
    "name": "ipython",
    "version": 3
   },
   "file_extension": ".py",
   "mimetype": "text/x-python",
   "name": "python",
   "nbconvert_exporter": "python",
   "pygments_lexer": "ipython3",
   "version": "3.12.3"
  }
 },
 "nbformat": 4,
 "nbformat_minor": 5
}
