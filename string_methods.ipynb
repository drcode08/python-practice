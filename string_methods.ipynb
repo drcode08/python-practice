{
 "cells": [
  {
   "cell_type": "markdown",
   "id": "f5d8e675",
   "metadata": {},
   "source": [
    "upper() - Converts a string into upper case \n",
    "lower() - Converts a String into lower case\n",
    "index() - Searches the string for a specified value and returns the position of where it is found\n",
    "replace() - Returns a string where a specified value is replaced with a specified value\n",
    "split() - Splits the string at the specified seprator and returns a list\n",
    "strip() - returnds a trimmed version of the string\n",
    "\n",
    "\n",
    "\n",
    "str.upper()\n",
    "\n",
    "Description:\n",
    "Returns a copy of the string with all characters converted to uppercase.\n",
    "\n",
    "Syntax:\n",
    "\n",
    "str.upper()\n",
    "\n",
    "\n",
    "Example:\n",
    "\n",
    "\"hello\".upper()\n",
    "#### Output: 'HELLO'\n",
    "\n",
    "str.lower()\n",
    "\n",
    "Description:\n",
    "Returns a copy of the string with all characters converted to lowercase.\n",
    "\n",
    "Syntax:\n",
    "\n",
    "str.lower()\n",
    "\n",
    "\n",
    "Example:\n",
    "\n",
    "\"HELLO\".lower()\n",
    "#### Output: 'hello'\n",
    "\n",
    "str.index(sub[, start[, end]])\n",
    "\n",
    "Description:\n",
    "Searches the string for the specified substring sub and returns the index (position) of its first occurrence.\n",
    "Raises a ValueError if the substring is not found.\n",
    "\n",
    "Syntax:\n",
    "\n",
    "str.index(sub[, start[, end]])\n",
    "\n",
    "\n",
    "Example:\n",
    "\n",
    "\"hello\".index(\"e\")\n",
    "#### Output: 1\n",
    "\n",
    "str.replace(old, new[, count])\n",
    "\n",
    "Description:\n",
    "Returns a copy of the string where all occurrences of substring old are replaced with new.\n",
    "If count is specified, only the first count occurrences are replaced.\n",
    "\n",
    "Syntax:\n",
    "\n",
    "str.replace(old, new[, count])\n",
    "\n",
    "\n",
    "Example:\n",
    "\n",
    "\"hello world\".replace(\"world\", \"Python\")\n",
    "#### Output: 'hello Python'\n",
    "\n",
    "str.split(sep=None, maxsplit=-1)\n",
    "\n",
    "Description:\n",
    "Splits the string at each occurrence of the specified separator sep and returns a list of substrings.\n",
    "If sep is not specified or None, any whitespace string is used as a separator.\n",
    "\n",
    "Syntax:\n",
    "\n",
    "str.split(sep=None, maxsplit=-1)\n",
    "\n",
    "\n",
    "Example:\n",
    "\n",
    "\"one,two,three\".split(\",\")\n",
    "##### Output: ['one', 'two', 'three']\n",
    "\n",
    "str.strip([chars])\n",
    "\n",
    "Description:\n",
    "Returns a copy of the string with leading and trailing characters removed.\n",
    "The optional chars argument specifies which characters to remove (defaults to whitespace).\n",
    "\n",
    "Syntax:\n",
    "\n",
    "str.strip([chars])\n",
    "\n",
    "\n",
    "Example:\n",
    "\n",
    "\"   hello   \".strip()\n",
    "#### Output: 'hello'"
   ]
  },
  {
   "cell_type": "code",
   "execution_count": 10,
   "id": "75a17333",
   "metadata": {},
   "outputs": [
    {
     "name": "stdout",
     "output_type": "stream",
     "text": [
      "strip_name is  Divakar reddy\n",
      "Upper name is   DIVAKAR REDDY    \n",
      "Lower name is   divakar reddy    \n",
      "Index of i in name  2\n",
      "Replace space with '@' ... @Divakar@reddy@@@@\n"
     ]
    }
   ],
   "source": [
    "name = \" Divakar reddy    \"\n",
    "strip_name = name.strip()\n",
    "u_name = name.upper()\n",
    "l_name = name.lower()\n",
    "index_name = name.index('i')\n",
    "replace_name = name.replace(' ', '@')\n",
    "print(\"strip_name is \", strip_name)\n",
    "print(\"Upper name is \", u_name)\n",
    "print(\"Lower name is \", l_name)\n",
    "print(\"Index of i in name \", index_name)\n",
    "print(\"Replace space with '@' ...\", replace_name)"
   ]
  },
  {
   "cell_type": "code",
   "execution_count": 18,
   "id": "2d0fcb8d",
   "metadata": {},
   "outputs": [
    {
     "name": "stdout",
     "output_type": "stream",
     "text": [
      "Post split my details are  ['DIVAKAR', ' BENGALURU', ' AI ENGINEER', ' TRAINER']\n"
     ]
    }
   ],
   "source": [
    "details = \"Divakar, Bengaluru, AI engineer, trainer\"\n",
    "d_list = details.upper().split(',')\n",
    "print(\"Post split my details are \", d_list)"
   ]
  }
 ],
 "metadata": {
  "kernelspec": {
   "display_name": ".venv",
   "language": "python",
   "name": "python3"
  },
  "language_info": {
   "codemirror_mode": {
    "name": "ipython",
    "version": 3
   },
   "file_extension": ".py",
   "mimetype": "text/x-python",
   "name": "python",
   "nbconvert_exporter": "python",
   "pygments_lexer": "ipython3",
   "version": "3.12.3"
  }
 },
 "nbformat": 4,
 "nbformat_minor": 5
}
