{
 "cells": [
  {
   "cell_type": "markdown",
   "id": "f323a933",
   "metadata": {},
   "source": [
    "STRINGS IN PYTHON\n",
    "A string is a sequence of characters enclosed in quotes — either single, double, or triple."
   ]
  },
  {
   "cell_type": "code",
   "execution_count": null,
   "id": "27cd5f17",
   "metadata": {},
   "outputs": [
    {
     "name": "stdout",
     "output_type": "stream",
     "text": [
      "Divakar\n",
      "Reddy\n",
      " I teach Python\n",
      " and Working as AI Engineer \n"
     ]
    }
   ],
   "source": [
    "first_name = \"Divakar\"\n",
    "last_name = 'Reddy'\n",
    "multiline = \"\"\" I teach Python\n",
    " and Working as AI Engineer \"\"\"\n",
    "\n",
    "print(first_name)\n",
    "print(last_name)\n",
    "print(multiline)"
   ]
  },
  {
   "cell_type": "markdown",
   "id": "aafca9e5",
   "metadata": {},
   "source": [
    "1. Creating Strings"
   ]
  },
  {
   "cell_type": "code",
   "execution_count": 4,
   "id": "a57f0717",
   "metadata": {},
   "outputs": [],
   "source": [
    "s1 = 'Hello'\n",
    "s2 = \"Hello\"\n",
    "s3 = '''Hello'''\n",
    "s4 = \"\"\"Hello\"\"\"\n"
   ]
  },
  {
   "cell_type": "markdown",
   "id": "93aa2027",
   "metadata": {},
   "source": [
    "2. Accessing Characters\n",
    "Strings are indexable (like arrays).\n",
    "Index starts from 0."
   ]
  },
  {
   "cell_type": "code",
   "execution_count": null,
   "id": "90ab37ec",
   "metadata": {},
   "outputs": [
    {
     "name": "stdout",
     "output_type": "stream",
     "text": [
      "P\n",
      "n\n"
     ]
    }
   ],
   "source": [
    "word = \"Python\"\n",
    "print(word[0])   # P\n",
    "print(word[-1])  # n (last character)"
   ]
  },
  {
   "cell_type": "markdown",
   "id": "1c9bc549",
   "metadata": {},
   "source": [
    "3. String Slicing\n",
    "You can extract substrings using slice notation [start:end:step]."
   ]
  },
  {
   "cell_type": "code",
   "execution_count": 10,
   "id": "04a8986a",
   "metadata": {},
   "outputs": [
    {
     "name": "stdout",
     "output_type": "stream",
     "text": [
      "Pyth\n",
      "Pyt\n",
      "Python\n",
      "thon\n",
      "nohtyP\n"
     ]
    }
   ],
   "source": [
    "text = 'Python'\n",
    "print(text[0:4])     # 'Pyth'\n",
    "print(text[:3])      # 'Pyt'\n",
    "print(text[0:])      # 'Python'\n",
    "print(text[2:])      # 'thon'\n",
    "print(text[::-1])    # reverse string\n"
   ]
  },
  {
   "cell_type": "markdown",
   "id": "31b8d9d3",
   "metadata": {},
   "source": [
    "4. String Immutability\n",
    "Strings are immutable — you cannot change them after creation."
   ]
  },
  {
   "cell_type": "code",
   "execution_count": 8,
   "id": "a7531bae",
   "metadata": {},
   "outputs": [
    {
     "ename": "TypeError",
     "evalue": "'str' object does not support item assignment",
     "output_type": "error",
     "traceback": [
      "\u001b[31m---------------------------------------------------------------------------\u001b[39m",
      "\u001b[31mTypeError\u001b[39m                                 Traceback (most recent call last)",
      "\u001b[36mCell\u001b[39m\u001b[36m \u001b[39m\u001b[32mIn[8]\u001b[39m\u001b[32m, line 2\u001b[39m\n\u001b[32m      1\u001b[39m s = \u001b[33m\"\u001b[39m\u001b[33mHello\u001b[39m\u001b[33m\"\u001b[39m\n\u001b[32m----> \u001b[39m\u001b[32m2\u001b[39m \u001b[43ms\u001b[49m\u001b[43m[\u001b[49m\u001b[32;43m0\u001b[39;49m\u001b[43m]\u001b[49m = \u001b[33m\"\u001b[39m\u001b[33mJ\u001b[39m\u001b[33m\"\u001b[39m\n",
      "\u001b[31mTypeError\u001b[39m: 'str' object does not support item assignment"
     ]
    }
   ],
   "source": [
    "s = \"Hello\"\n",
    "s[0] = \"J\"\n"
   ]
  },
  {
   "cell_type": "code",
   "execution_count": null,
   "id": "f6c38896",
   "metadata": {},
   "outputs": [],
   "source": [
    "s = \"Hello\"\n",
    "# s[0] = \"J\"  # ❌ Error\n",
    "s = \"J\" + s[1:]  # ✅ Create a new string\n",
    "print(s)  # Jello"
   ]
  },
  {
   "cell_type": "markdown",
   "id": "eca4a61b",
   "metadata": {},
   "source": [
    "5. String Concatenation and Repetition\n",
    "You can join or repeat strings easily."
   ]
  },
  {
   "cell_type": "code",
   "execution_count": 11,
   "id": "77aa1752",
   "metadata": {},
   "outputs": [
    {
     "name": "stdout",
     "output_type": "stream",
     "text": [
      "Divakar Reddy\n",
      "DivakarDivakarDivakar\n"
     ]
    }
   ],
   "source": [
    "a = \"Divakar\"\n",
    "b = \"Reddy\"\n",
    "print(a + \" \" + b)   # Concatenation\n",
    "print(a * 3)         # Repetition\n"
   ]
  },
  {
   "cell_type": "markdown",
   "id": "4d3bf66b",
   "metadata": {},
   "source": [
    "6. Useful String Functions\n",
    "Python has many built-in string methods:"
   ]
  },
  {
   "cell_type": "code",
   "execution_count": null,
   "id": "8c7da8f2",
   "metadata": {},
   "outputs": [
    {
     "name": "stdout",
     "output_type": "stream",
     "text": [
      "  PYTHON PROGRAMMING  \n",
      "  python programming  \n",
      "python proGramming\n",
      "  Python Programming  \n",
      "  java proGramming  \n",
      "9\n",
      "2\n"
     ]
    }
   ],
   "source": [
    "msg = \"  python proGramming  \"\n",
    "\n",
    "print(msg.upper())      # '  PYTHON PROGRAMMING  '\n",
    "print(msg.lower())      # '  python programming  '\n",
    "print(msg.strip())      # 'python programming' (removes spaces)\n",
    "print(msg.title())      # '  Python Programming  '\n",
    "print(msg.replace(\"python\", \"java\"))  # '  java programming  '\n",
    "print(msg.find(\"pro\"))  # 9 (position)\n",
    "print(msg.find('p'))    # 2 position with first occurrence\n"
   ]
  },
  {
   "cell_type": "markdown",
   "id": "62d89289",
   "metadata": {},
   "source": [
    "7. Checking Contents\n",
    "String testing methods:"
   ]
  },
  {
   "cell_type": "code",
   "execution_count": 17,
   "id": "b7e747e2",
   "metadata": {},
   "outputs": [
    {
     "name": "stdout",
     "output_type": "stream",
     "text": [
      "False\n",
      "False\n",
      "True\n",
      "True\n",
      "True\n",
      "False\n"
     ]
    }
   ],
   "source": [
    "s = \"Python123\"\n",
    "print(s.isalpha())   # False (contains digits)\n",
    "print(s.isdigit())   # False\n",
    "print(s.isalnum())   # True\n",
    "print(s.startswith(\"Py\"))  # True\n",
    "print(s.endswith(\"123\"))   # True\n",
    "print(s.endswith(\"Py\"))    # False"
   ]
  },
  {
   "cell_type": "markdown",
   "id": "4e3b51dc",
   "metadata": {},
   "source": [
    "8. String Formatting\n",
    "You can format strings in multiple ways:\n",
    "➤ Using f-strings (Python 3.6+)\n",
    "➤ Using format()\n",
    "➤ Using % formatting\n"
   ]
  },
  {
   "cell_type": "code",
   "execution_count": 20,
   "id": "170ae079",
   "metadata": {},
   "outputs": [
    {
     "name": "stdout",
     "output_type": "stream",
     "text": [
      "My name is Divakar Reddy and I'm 30 old\n",
      "My name is Divakar Reddy and I am 30 years old.\n",
      "My name is Divakar Reddy and I am 30 years old.\n",
      "My name is Divakar Reddy and I am working as AI Engineer\n"
     ]
    }
   ],
   "source": [
    "name = \"Divakar Reddy\"\n",
    "age = 30\n",
    "job = 'AI Engineer'\n",
    "print(f\"My name is {name} and I'm {age} old\")\n",
    "print(\"My name is {} and I am {} years old.\".format(name, age))\n",
    "print(\"My name is %s and I am %d years old.\" % (name, age))\n",
    "print(\"My name is {} and I am working as {}\".format(name, job))\n",
    "\n"
   ]
  },
  {
   "cell_type": "markdown",
   "id": "2ffb8115",
   "metadata": {},
   "source": [
    "9. Splitting and Joining Strings"
   ]
  },
  {
   "cell_type": "code",
   "execution_count": 26,
   "id": "721cfd7c",
   "metadata": {},
   "outputs": [
    {
     "name": "stdout",
     "output_type": "stream",
     "text": [
      "['apple', 'banana', 'cherry']\n",
      "apple-banana-cherry\n",
      "['I', 'am', 'working', 'as', 'AI', 'Engineer']\n",
      "I-am-working-as-AI-Engineer\n"
     ]
    }
   ],
   "source": [
    "text = \"apple,banana,cherry\"\n",
    "user_input = \"I am working as AI Engineer\"\n",
    "fruits = text.split(\",\")   # ['apple', 'banana', 'cherry']\n",
    "print(fruits)\n",
    "\n",
    "joined = \"-\".join(fruits)\n",
    "print(joined)  # apple-banana-cherry\n",
    "\n",
    "msg = user_input.split(\" \")\n",
    "print(msg)\n",
    "joined1 = \"-\".join(msg)\n",
    "print(joined1)\n"
   ]
  },
  {
   "cell_type": "markdown",
   "id": "b1b6dd26",
   "metadata": {},
   "source": [
    "10. Multi-line Strings\n",
    "Triple quotes (''' or \"\"\") let you write multi-line strings easily."
   ]
  },
  {
   "cell_type": "code",
   "execution_count": 27,
   "id": "0ce92b8c",
   "metadata": {},
   "outputs": [
    {
     "name": "stdout",
     "output_type": "stream",
     "text": [
      "This is\n",
      "a multi-line\n",
      "string.\n"
     ]
    }
   ],
   "source": [
    "message = \"\"\"This is\n",
    "a multi-line\n",
    "string.\"\"\"\n",
    "print(message)\n"
   ]
  },
  {
   "cell_type": "markdown",
   "id": "210ca2c7",
   "metadata": {},
   "source": [
    "11. Escape Characters\n",
    "Use a backslash \\ for special characters."
   ]
  },
  {
   "cell_type": "code",
   "execution_count": 29,
   "id": "f442d4c7",
   "metadata": {},
   "outputs": [
    {
     "name": "stdout",
     "output_type": "stream",
     "text": [
      "He said, \"Python is fun!\"\n",
      "Hey!, \"I am Divakar\"\n",
      "Line1\n",
      "Line2\n",
      "A\tB\tC\n"
     ]
    }
   ],
   "source": [
    "text = \"He said, \\\"Python is fun!\\\"\"\n",
    "print(text)\n",
    "msg = \"Hey!, \\\"I am Divakar\\\"\"\n",
    "print(msg)\n",
    "\n",
    "newline = \"Line1\\nLine2\"\n",
    "tabbed = \"A\\tB\\tC\"\n",
    "print(newline)\n",
    "print(tabbed)\n"
   ]
  },
  {
   "cell_type": "markdown",
   "id": "852c01b6",
   "metadata": {},
   "source": [
    "12. Raw Strings\n",
    "Prefix with r to ignore escape sequences."
   ]
  },
  {
   "cell_type": "code",
   "execution_count": 30,
   "id": "f5b340c2",
   "metadata": {},
   "outputs": [
    {
     "name": "stdout",
     "output_type": "stream",
     "text": [
      "C:\\newfolder\\test\n"
     ]
    }
   ],
   "source": [
    "path = r\"C:\\newfolder\\test\"\n",
    "print(path)\n"
   ]
  },
  {
   "cell_type": "markdown",
   "id": "557a7fab",
   "metadata": {},
   "source": [
    "13. String Comparison\n",
    "Strings can be compared using comparison operators (==, !=, <, >, etc.) — comparison is lexicographical."
   ]
  },
  {
   "cell_type": "code",
   "execution_count": 32,
   "id": "83592d53",
   "metadata": {},
   "outputs": [
    {
     "name": "stdout",
     "output_type": "stream",
     "text": [
      "True\n",
      "False\n",
      "True\n"
     ]
    }
   ],
   "source": [
    "print(\"apple\" < \"banana\")  # True\n",
    "print(\"abc\" == \"ABC\")      # False (case-sensitive)\n",
    "print(\"abc\" == 'abc')\n"
   ]
  },
  {
   "cell_type": "markdown",
   "id": "d7b3b9d1",
   "metadata": {},
   "source": [
    "4. Summary Table\n",
    "| Operation    | Example                     | Output          |\n",
    "| ------------ | --------------------------- | --------------- |\n",
    "| Length       | `len(\"Python\")`             | 6               |\n",
    "| Uppercase    | `\"hi\".upper()`              | `HI`            |\n",
    "| Lowercase    | `\"HI\".lower()`              | `hi`            |\n",
    "| Strip spaces | `\" hi \".strip()`            | `hi`            |\n",
    "| Replace      | `\"apple\".replace(\"a\", \"A\")` | `Apple`         |\n",
    "| Split        | `\"a,b,c\".split(\",\")`        | `['a','b','c']` |\n",
    "| Join         | `\"-\".join(['a','b','c'])`   | `a-b-c`         |\n"
   ]
  }
 ],
 "metadata": {
  "kernelspec": {
   "display_name": ".venv",
   "language": "python",
   "name": "python3"
  },
  "language_info": {
   "codemirror_mode": {
    "name": "ipython",
    "version": 3
   },
   "file_extension": ".py",
   "mimetype": "text/x-python",
   "name": "python",
   "nbconvert_exporter": "python",
   "pygments_lexer": "ipython3",
   "version": "3.12.3"
  }
 },
 "nbformat": 4,
 "nbformat_minor": 5
}
